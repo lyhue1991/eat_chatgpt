{
 "cells": [
  {
   "cell_type": "markdown",
   "id": "0076cae3",
   "metadata": {
    "height": 30
   },
   "source": [
    "# ChatGPT❤️ Jupyter \n",
    "\n",
    "# 算法工程师如何优雅地使用ChatGPT?"
   ]
  },
  {
   "cell_type": "markdown",
   "id": "d1f101a3",
   "metadata": {
    "height": 30
   },
   "source": [
    "通过自定义魔法命令，可以在notebook中直接调用chatgpt，无缝衔接编码过程。"
   ]
  },
  {
   "cell_type": "code",
   "execution_count": null,
   "id": "5764f24e",
   "metadata": {},
   "outputs": [],
   "source": []
  },
  {
   "cell_type": "markdown",
   "id": "eba6c654",
   "metadata": {},
   "source": [
    "## 一，安装方法"
   ]
  },
  {
   "cell_type": "markdown",
   "id": "1d40ef58",
   "metadata": {},
   "source": [
    "首先要获取一个chatgpt的api_key。\n",
    "\n",
    "正式的方法是通过注册一个chatgpt账号来获得。\n",
    "\n",
    "如果只是想体验一下，可以去参加吴恩达的chatgpt-prompt-eng课程。可以在课程的jupyter 环境中获得和使用。\n",
    "\n",
    "https://learn.deeplearning.ai/chatgpt-prompt-eng"
   ]
  },
  {
   "cell_type": "code",
   "execution_count": null,
   "id": "5719db47",
   "metadata": {},
   "outputs": [],
   "source": [
    "%%writefile chatgpt.py\n",
    "import openai\n",
    "openai.api_key = 'xxkey'\n",
    "\n",
    "def ask(prompt):\n",
    "    model=\"gpt-3.5-turbo\"\n",
    "    messages = [{\"role\": \"user\", \"content\": prompt}]\n",
    "    response = openai.ChatCompletion.create(\n",
    "        model=model,\n",
    "        messages=messages,\n",
    "        temperature=0, # this is the degree of randomness of the model's output\n",
    "    )\n",
    "    result = response.choices[0].message[\"content\"]\n",
    "    return result\n",
    "\n",
    "from IPython.core.magic import (Magics, magics_class, line_magic,\n",
    "                                cell_magic, line_cell_magic)\n",
    " \n",
    "@magics_class\n",
    "class ChatGPTMagics(Magics):\n",
    " \n",
    "    @line_magic\n",
    "    def chat(self, line):\n",
    "        return ask(line)\n",
    " \n",
    "    @cell_magic\n",
    "    def gpt(self, line, cell):\n",
    "        result = ask(cell)\n",
    "        print(result)\n",
    " \n",
    "    @line_cell_magic\n",
    "    def chatgpt(self, line, cell=None):\n",
    "        \"Magic that works both as %chatgpt and as %%chatgpt\"\n",
    "        if cell is None:\n",
    "            return ask(line)\n",
    "        else:\n",
    "            print(ask(cell))\n",
    " \n",
    " \n",
    "# In order to actually use these magics, you must register them with a\n",
    "# running IPython.\n",
    "def load_ipython_extension(ipython):\n",
    "    \"\"\"\n",
    "    Any module file that define a function named `load_ipython_extension`\n",
    "    can be loaded via `%load_ext module.path` or be configured to be\n",
    "    autoloaded by IPython at startup time.\n",
    "    \"\"\"\n",
    "    ipython.register_magics(ChatGPTMagics)\n"
   ]
  },
  {
   "cell_type": "code",
   "execution_count": null,
   "id": "204ec1d0",
   "metadata": {},
   "outputs": [],
   "source": [
    "%load_ext chatgpt "
   ]
  },
  {
   "cell_type": "code",
   "execution_count": null,
   "id": "3c7073db",
   "metadata": {},
   "outputs": [],
   "source": []
  },
  {
   "cell_type": "markdown",
   "id": "bd4d25bf",
   "metadata": {
    "height": 30
   },
   "source": [
    "## 二，聊天范例"
   ]
  },
  {
   "cell_type": "code",
   "execution_count": 3,
   "id": "8a5a7edc",
   "metadata": {
    "height": 47
   },
   "outputs": [
    {
     "name": "stdout",
     "output_type": "stream",
     "text": [
      "不可以。三本三国演义虽然都讲述了三国时期的历史故事，但是它们的叙述方式、角度、人物塑造等方面都有所不同，合成一本九国演义会导致故事情节混乱、人物形象不一致等问题。\n"
     ]
    }
   ],
   "source": [
    "%%chatgpt \n",
    "三本三国演义可以合成一本九国演义吗？"
   ]
  },
  {
   "cell_type": "code",
   "execution_count": 8,
   "id": "c519b461",
   "metadata": {
    "height": 47
   },
   "outputs": [
    {
     "name": "stdout",
     "output_type": "stream",
     "text": [
      "作为AI语言模型，我不能提供完美的解决方案，但是我可以提供一些思路和建议：\n",
      "\n",
      "1. 贫困问题：解决贫困问题需要从多个方面入手，包括提高教育水平、促进经济发展、改善社会保障体系等。政府可以制定相关政策，鼓励企业投资发展，提高人民的收入水平。同时，社会各界也可以积极参与公益事业，为贫困地区提供帮助和支持。\n",
      "\n",
      "2. 环境问题：环境问题是全球性的挑战，需要全球合作来解决。政府可以加强环境保护法律法规的制定和执行，鼓励企业采取环保措施，推广可再生能源等。个人也可以从自身做起，减少浪费，节约能源，使用环保产品等。\n",
      "\n",
      "3. 男人的寂寞问题：男人的寂寞问题需要从心理和社会角度入手。政府可以加强心理健康教育，提供心理咨询服务，鼓励男性参与社交活动，建立社交网络。同时，社会也可以加强男性情感教育，鼓励男性表达情感，建立健康的人际关系。\n"
     ]
    }
   ],
   "source": [
    "%%chatgpt \n",
    "如何解决世界三大难题：贫困问题，环境问题，以及男人的寂寞问题？"
   ]
  },
  {
   "cell_type": "code",
   "execution_count": null,
   "id": "05e548ad",
   "metadata": {
    "height": 30
   },
   "outputs": [],
   "source": []
  },
  {
   "cell_type": "markdown",
   "id": "6a8cbe02",
   "metadata": {
    "height": 30
   },
   "source": [
    "## 三，代码范例"
   ]
  },
  {
   "cell_type": "markdown",
   "id": "2f38c078",
   "metadata": {
    "height": 30
   },
   "source": [
    "### 1，Python范例"
   ]
  },
  {
   "cell_type": "code",
   "execution_count": 30,
   "id": "cd62e218",
   "metadata": {
    "height": 47
   },
   "outputs": [
    {
     "name": "stdout",
     "output_type": "stream",
     "text": [
      "可以使用Python内置的datetime模块来实现这个函数。具体实现如下：\n",
      "\n",
      "```python\n",
      "from datetime import datetime\n",
      "\n",
      "def get_weekday(date_str):\n",
      "    \"\"\"\n",
      "    获取字符串日期是星期几\n",
      "    :param date_str: 字符串日期，格式为YYYY-MM-DD\n",
      "    :return: 星期几，0~6表示周一到周日\n",
      "    \"\"\"\n",
      "    date = datetime.strptime(date_str, '%Y-%m-%d')\n",
      "    return date.weekday()\n",
      "```\n",
      "\n",
      "使用示例：\n",
      "\n",
      "```python\n",
      "print(get_weekday('2022-01-01'))  # 输出6，表示2022年1月1日是周六\n",
      "```\n",
      "\n",
      "解释一下代码：\n",
      "\n",
      "1. 首先导入datetime模块；\n",
      "2. 定义一个函数get_weekday，接收一个字符串日期date_str作为参数；\n",
      "3. 使用datetime.strptime将字符串日期转换为datetime对象；\n",
      "4. 使用datetime.weekday方法获取星期几，返回值为0~6，分别表示周一到周日；\n",
      "5. 返回星期几。\n"
     ]
    }
   ],
   "source": [
    "%%chatgpt \n",
    "写一个用Python函数求一个字符串日期是星期几的函数，函数返回的星期用0~6表示。"
   ]
  },
  {
   "cell_type": "code",
   "execution_count": 28,
   "id": "75eaaf2d",
   "metadata": {
    "height": 149
   },
   "outputs": [],
   "source": [
    "import datetime\n",
    "\n",
    "def get_weekday(date_str):\n",
    "    date_obj = datetime.datetime.strptime(date_str, '%Y-%m-%d')\n",
    "    weekday = date_obj.strftime('%A')\n",
    "    return weekday\n",
    "\n"
   ]
  },
  {
   "cell_type": "code",
   "execution_count": 29,
   "id": "06df0c3b",
   "metadata": {
    "height": 30
   },
   "outputs": [
    {
     "data": {
      "text/plain": [
       "'Sunday'"
      ]
     },
     "execution_count": 29,
     "metadata": {},
     "output_type": "execute_result"
    }
   ],
   "source": [
    "get_weekday('2023-05-07')"
   ]
  },
  {
   "cell_type": "markdown",
   "id": "4cafe923",
   "metadata": {
    "height": 30
   },
   "source": [
    "### 2， javascript 范例\n"
   ]
  },
  {
   "cell_type": "code",
   "execution_count": null,
   "id": "5b8d6e8c",
   "metadata": {
    "height": 47
   },
   "outputs": [],
   "source": [
    "%%chatgpt \n",
    "请写一个javascript代码，画一个五角星，要包含html部分。"
   ]
  },
  {
   "cell_type": "code",
   "execution_count": 5,
   "id": "68209ff3",
   "metadata": {
    "height": 30
   },
   "outputs": [
    {
     "data": {
      "text/html": [
       "<!DOCTYPE html>\n",
       "<html>\n",
       "<head>\n",
       "\t<title>五角星</title>\n",
       "\t<style>\n",
       "\t\tcanvas {\n",
       "\t\t\tborder: 1px solid black;\n",
       "\t\t}\n",
       "\t</style>\n",
       "</head>\n",
       "<body>\n",
       "\t<canvas id=\"myCanvas\" width=\"200\" height=\"200\"></canvas>\n",
       "\n",
       "\t<script>\n",
       "\t\tvar canvas = document.getElementById(\"myCanvas\");\n",
       "\t\tvar ctx = canvas.getContext(\"2d\");\n",
       "\n",
       "\t\tctx.beginPath();\n",
       "\t\tctx.moveTo(100, 0);\n",
       "\t\tctx.lineTo(120, 60);\n",
       "\t\tctx.lineTo(180, 70);\n",
       "\t\tctx.lineTo(140, 120);\n",
       "\t\tctx.lineTo(160, 180);\n",
       "\t\tctx.lineTo(100, 150);\n",
       "\t\tctx.lineTo(40, 180);\n",
       "\t\tctx.lineTo(60, 120);\n",
       "\t\tctx.lineTo(20, 70);\n",
       "\t\tctx.lineTo(80, 60);\n",
       "\t\tctx.closePath();\n",
       "\t\tctx.stroke();\n",
       "\t</script>\n",
       "</body>\n",
       "</html>\n"
      ],
      "text/plain": [
       "<IPython.core.display.HTML object>"
      ]
     },
     "metadata": {},
     "output_type": "display_data"
    }
   ],
   "source": [
    "%%html \n",
    "<!DOCTYPE html>\n",
    "<html>\n",
    "<head>\n",
    "\t<title>五角星</title>\n",
    "\t<style>\n",
    "\t\tcanvas {\n",
    "\t\t\tborder: 1px solid black;\n",
    "\t\t}\n",
    "\t</style>\n",
    "</head>\n",
    "<body>\n",
    "\t<canvas id=\"myCanvas\" width=\"200\" height=\"200\"></canvas>\n",
    "\n",
    "\t<script>\n",
    "\t\tvar canvas = document.getElementById(\"myCanvas\");\n",
    "\t\tvar ctx = canvas.getContext(\"2d\");\n",
    "\n",
    "\t\tctx.beginPath();\n",
    "\t\tctx.moveTo(100, 0);\n",
    "\t\tctx.lineTo(120, 60);\n",
    "\t\tctx.lineTo(180, 70);\n",
    "\t\tctx.lineTo(140, 120);\n",
    "\t\tctx.lineTo(160, 180);\n",
    "\t\tctx.lineTo(100, 150);\n",
    "\t\tctx.lineTo(40, 180);\n",
    "\t\tctx.lineTo(60, 120);\n",
    "\t\tctx.lineTo(20, 70);\n",
    "\t\tctx.lineTo(80, 60);\n",
    "\t\tctx.closePath();\n",
    "\t\tctx.stroke();\n",
    "\t</script>\n",
    "</body>\n",
    "</html>\n"
   ]
  },
  {
   "cell_type": "code",
   "execution_count": null,
   "id": "86d9f001",
   "metadata": {
    "height": 30
   },
   "outputs": [],
   "source": []
  }
 ],
 "metadata": {
  "kernelspec": {
   "display_name": "Python 3 (ipykernel)",
   "language": "python",
   "name": "python3"
  },
  "language_info": {
   "codemirror_mode": {
    "name": "ipython",
    "version": 3
   },
   "file_extension": ".py",
   "mimetype": "text/x-python",
   "name": "python",
   "nbconvert_exporter": "python",
   "pygments_lexer": "ipython3",
   "version": "3.9.0"
  }
 },
 "nbformat": 4,
 "nbformat_minor": 5
}
