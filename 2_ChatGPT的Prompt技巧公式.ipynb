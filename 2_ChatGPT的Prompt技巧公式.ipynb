{
 "cells": [
  {
   "cell_type": "markdown",
   "metadata": {
    "slideshow": {
     "slide_type": "slide"
    }
   },
   "source": [
    "# ChatGPT的prompt技巧公式\n",
    "\n",
    "# 如何用ChatGPT绘制一个五角星？\n",
    "\n",
    "\n",
    "prompt = (角色) + 任务 + 要求 + 提示【步骤拆解、范例说明，技巧点拨等】\n",
    "\n",
    "\n",
    "\n"
   ]
  },
  {
   "cell_type": "code",
   "execution_count": null,
   "metadata": {
    "slideshow": {
     "slide_type": "slide"
    }
   },
   "outputs": [],
   "source": []
  },
  {
   "cell_type": "code",
   "execution_count": 1,
   "metadata": {
    "execution": {
     "iopub.execute_input": "2023-05-14T15:33:34.636684Z",
     "iopub.status.busy": "2023-05-14T15:33:34.635265Z",
     "iopub.status.idle": "2023-05-14T15:33:43.144297Z",
     "shell.execute_reply": "2023-05-14T15:33:43.142997Z",
     "shell.execute_reply.started": "2023-05-14T15:33:34.636633Z"
    },
    "slideshow": {
     "slide_type": "slide"
    }
   },
   "outputs": [
    {
     "name": "stderr",
     "output_type": "stream",
     "text": [
      "/opt/conda/lib/python3.10/site-packages/scipy/__init__.py:146: UserWarning: A NumPy version >=1.16.5 and <1.23.0 is required for this version of SciPy (detected version 1.23.5\n",
      "  warnings.warn(f\"A NumPy version >={np_minversion} and <{np_maxversion}\"\n"
     ]
    },
    {
     "name": "stdout",
     "output_type": "stream",
     "text": [
      "Hello! How can I assist you today?\n",
      "register magic %%chatgpt sucessed ...\n"
     ]
    }
   ],
   "source": [
    "from torchkeras.chatgpt import ChatGPT \n",
    "api_key = None#'sk-xx'\n",
    "chatgpt = ChatGPT(api_key=api_key,\n",
    "                  max_chat_rounds=3, #支持3轮上下文连续对话\n",
    "                  temperature=0\n",
    "                 )\n"
   ]
  },
  {
   "cell_type": "code",
   "execution_count": null,
   "metadata": {},
   "outputs": [],
   "source": []
  },
  {
   "cell_type": "code",
   "execution_count": null,
   "metadata": {},
   "outputs": [],
   "source": []
  },
  {
   "cell_type": "markdown",
   "metadata": {},
   "source": [
    "##  一，任务"
   ]
  },
  {
   "cell_type": "code",
   "execution_count": 2,
   "metadata": {
    "execution": {
     "iopub.execute_input": "2023-05-14T15:33:59.368023Z",
     "iopub.status.busy": "2023-05-14T15:33:59.367046Z",
     "iopub.status.idle": "2023-05-14T15:34:02.927777Z",
     "shell.execute_reply": "2023-05-14T15:34:02.926455Z",
     "shell.execute_reply.started": "2023-05-14T15:33:59.367976Z"
    }
   },
   "outputs": [
    {
     "name": "stdout",
     "output_type": "stream",
     "text": [
      "以下是绘制五角星的Python代码：\n",
      "\n",
      "```python\n",
      "import turtle\n",
      "\n",
      "# 创建一个画布\n",
      "canvas = turtle.Screen()\n",
      "\n",
      "# 创建一个海龟对象\n",
      "pen = turtle.Turtle()\n",
      "\n",
      "# 设置画笔颜色和填充颜色\n",
      "pen.color(\"red\", \"yellow\")\n",
      "\n",
      "# 开始填充\n",
      "pen.begin_fill()\n",
      "\n",
      "# 绘制五角星\n",
      "for i in range(5):\n",
      "    pen.forward(200)\n",
      "    pen.right(144)\n",
      "\n",
      "# 结束填充\n",
      "pen.end_fill()\n",
      "\n",
      "# 隐藏海龟\n",
      "pen.hideturtle()\n",
      "\n",
      "# 点击关闭窗口\n",
      "canvas.exitonclick()\n",
      "```\n",
      "\n",
      "运行代码后，会弹出一个窗口，里面绘制了一个红色边框、黄色填充的五角星。\n"
     ]
    }
   ],
   "source": [
    "%%chatgpt \n",
    "任务：请用Python代码绘制一个五角星。\n"
   ]
  },
  {
   "cell_type": "code",
   "execution_count": null,
   "metadata": {},
   "outputs": [],
   "source": []
  },
  {
   "cell_type": "code",
   "execution_count": null,
   "metadata": {},
   "outputs": [],
   "source": []
  },
  {
   "cell_type": "markdown",
   "metadata": {},
   "source": [
    "## 二，任务+要求"
   ]
  },
  {
   "cell_type": "code",
   "execution_count": 3,
   "metadata": {
    "execution": {
     "iopub.execute_input": "2023-05-14T15:34:26.542261Z",
     "iopub.status.busy": "2023-05-14T15:34:26.541818Z",
     "iopub.status.idle": "2023-05-14T15:34:32.634800Z",
     "shell.execute_reply": "2023-05-14T15:34:32.633298Z",
     "shell.execute_reply.started": "2023-05-14T15:34:26.542226Z"
    }
   },
   "outputs": [
    {
     "name": "stdout",
     "output_type": "stream",
     "text": [
      "以下是使用matplotlib库绘制五角星的Python代码：\n",
      "\n",
      "```python\n",
      "import matplotlib.pyplot as plt\n",
      "import numpy as np\n",
      "\n",
      "# 创建一个画布\n",
      "fig, ax = plt.subplots()\n",
      "\n",
      "# 设置画布大小\n",
      "fig.set_size_inches(5, 5)\n",
      "\n",
      "# 设置线条颜色\n",
      "line_color = 'red'\n",
      "\n",
      "# 计算五角星的顶点坐标\n",
      "theta = np.linspace(0, 2*np.pi, 6)\n",
      "x = np.sin(theta)\n",
      "y = np.cos(theta)\n",
      "\n",
      "# 绘制五角星\n",
      "ax.plot(x, y, color=line_color)\n",
      "\n",
      "# 设置坐标轴范围\n",
      "ax.set_xlim(-1.2, 1.2)\n",
      "ax.set_ylim(-1.2, 1.2)\n",
      "\n",
      "# 隐藏坐标轴\n",
      "ax.axis('off')\n",
      "\n",
      "# 显示绘制结果\n",
      "plt.show()\n",
      "```\n",
      "\n",
      "运行代码后，会弹出一个窗口，里面绘制了一个红色线条的五角星。\n"
     ]
    }
   ],
   "source": [
    "%%chatgpt \n",
    "任务：请用Python代码绘制一个五角星。\n",
    "要求：请使用matplotlib这个库，线条使用红色。\n"
   ]
  },
  {
   "cell_type": "code",
   "execution_count": 4,
   "metadata": {
    "execution": {
     "iopub.execute_input": "2023-05-14T15:34:39.478769Z",
     "iopub.status.busy": "2023-05-14T15:34:39.478317Z",
     "iopub.status.idle": "2023-05-14T15:34:39.578316Z",
     "shell.execute_reply": "2023-05-14T15:34:39.576577Z",
     "shell.execute_reply.started": "2023-05-14T15:34:39.478730Z"
    }
   },
   "outputs": [
    {
     "data": {
      "image/png": "[encoded data removed]",
      "text/plain": [
       "<Figure size 500x500 with 1 Axes>"
      ]
     },
     "metadata": {},
     "output_type": "display_data"
    }
   ],
   "source": [
    "import matplotlib.pyplot as plt\n",
    "import numpy as np\n",
    "\n",
    "# 创建一个画布\n",
    "fig, ax = plt.subplots()\n",
    "\n",
    "# 设置画布大小\n",
    "fig.set_size_inches(5, 5)\n",
    "\n",
    "# 设置线条颜色\n",
    "line_color = 'red'\n",
    "\n",
    "# 计算五角星的顶点坐标\n",
    "theta = np.linspace(0, 2*np.pi, 6)\n",
    "x = np.sin(theta)\n",
    "y = np.cos(theta)\n",
    "\n",
    "# 绘制五角星\n",
    "ax.plot(x, y, color=line_color)\n",
    "\n",
    "# 设置坐标轴范围\n",
    "ax.set_xlim(-1.2, 1.2)\n",
    "ax.set_ylim(-1.2, 1.2)\n",
    "\n",
    "# 隐藏坐标轴\n",
    "ax.axis('off')\n",
    "\n",
    "# 显示绘制结果\n",
    "plt.show()"
   ]
  },
  {
   "cell_type": "code",
   "execution_count": null,
   "metadata": {},
   "outputs": [],
   "source": []
  },
  {
   "cell_type": "code",
   "execution_count": null,
   "metadata": {},
   "outputs": [],
   "source": []
  },
  {
   "cell_type": "code",
   "execution_count": null,
   "metadata": {},
   "outputs": [],
   "source": []
  },
  {
   "cell_type": "markdown",
   "metadata": {},
   "source": [
    "## 三，(角色)+任务+要求"
   ]
  },
  {
   "cell_type": "code",
   "execution_count": 5,
   "metadata": {
    "execution": {
     "iopub.execute_input": "2023-05-14T15:35:12.313834Z",
     "iopub.status.busy": "2023-05-14T15:35:12.313362Z",
     "iopub.status.idle": "2023-05-14T15:35:18.194385Z",
     "shell.execute_reply": "2023-05-14T15:35:18.192966Z",
     "shell.execute_reply.started": "2023-05-14T15:35:12.313799Z"
    }
   },
   "outputs": [
    {
     "name": "stdout",
     "output_type": "stream",
     "text": [
      "以下是使用matplotlib库绘制五角星的Python代码：\n",
      "\n",
      "```python\n",
      "import matplotlib.pyplot as plt\n",
      "import numpy as np\n",
      "\n",
      "# 创建一个画布\n",
      "fig, ax = plt.subplots()\n",
      "\n",
      "# 设置画布大小\n",
      "fig.set_size_inches(5, 5)\n",
      "\n",
      "# 设置线条颜色\n",
      "line_color = 'red'\n",
      "\n",
      "# 计算五角星的顶点坐标\n",
      "theta = np.linspace(0, 2*np.pi, 6)\n",
      "x = np.sin(theta)\n",
      "y = np.cos(theta)\n",
      "\n",
      "# 绘制五角星\n",
      "ax.plot(x, y, color=line_color)\n",
      "\n",
      "# 设置坐标轴范围\n",
      "ax.set_xlim(-1.2, 1.2)\n",
      "ax.set_ylim(-1.2, 1.2)\n",
      "\n",
      "# 隐藏坐标轴\n",
      "ax.axis('off')\n",
      "\n",
      "# 显示绘制结果\n",
      "plt.show()\n",
      "```\n",
      "\n",
      "运行代码后，会弹出一个窗口，里面绘制了一个红色线条的五角星。\n"
     ]
    }
   ],
   "source": [
    "%%chatgpt \n",
    "角色：假设你是一个擅长绘图的Python程序员。\n",
    "任务：请用Python代码绘制一个五角星。\n",
    "要求：请使用matplotlib这个库，线条使用红色。\n"
   ]
  },
  {
   "cell_type": "code",
   "execution_count": 6,
   "metadata": {
    "execution": {
     "iopub.execute_input": "2023-05-14T15:35:35.188482Z",
     "iopub.status.busy": "2023-05-14T15:35:35.187446Z",
     "iopub.status.idle": "2023-05-14T15:35:35.269207Z",
     "shell.execute_reply": "2023-05-14T15:35:35.267567Z",
     "shell.execute_reply.started": "2023-05-14T15:35:35.188420Z"
    }
   },
   "outputs": [
    {
     "data": {
      "image/png": "[encoded data removed]",
      "text/plain": [
       "<Figure size 500x500 with 1 Axes>"
      ]
     },
     "metadata": {},
     "output_type": "display_data"
    }
   ],
   "source": [
    "import matplotlib.pyplot as plt\n",
    "import numpy as np\n",
    "\n",
    "# 创建一个画布\n",
    "fig, ax = plt.subplots()\n",
    "\n",
    "# 设置画布大小\n",
    "fig.set_size_inches(5, 5)\n",
    "\n",
    "# 设置线条颜色\n",
    "line_color = 'red'\n",
    "\n",
    "# 计算五角星的顶点坐标\n",
    "theta = np.linspace(0, 2*np.pi, 6)\n",
    "x = np.sin(theta)\n",
    "y = np.cos(theta)\n",
    "\n",
    "# 绘制五角星\n",
    "ax.plot(x, y, color=line_color)\n",
    "\n",
    "# 设置坐标轴范围\n",
    "ax.set_xlim(-1.2, 1.2)\n",
    "ax.set_ylim(-1.2, 1.2)\n",
    "\n",
    "# 隐藏坐标轴\n",
    "ax.axis('off')\n",
    "\n",
    "# 显示绘制结果\n",
    "plt.show()"
   ]
  },
  {
   "cell_type": "markdown",
   "metadata": {},
   "source": [
    "## "
   ]
  },
  {
   "cell_type": "markdown",
   "metadata": {},
   "source": [
    "## 四，角色+任务+要求+提示"
   ]
  },
  {
   "cell_type": "code",
   "execution_count": 7,
   "metadata": {
    "execution": {
     "iopub.execute_input": "2023-05-14T15:36:15.563027Z",
     "iopub.status.busy": "2023-05-14T15:36:15.562616Z",
     "iopub.status.idle": "2023-05-14T15:36:22.871606Z",
     "shell.execute_reply": "2023-05-14T15:36:22.870201Z",
     "shell.execute_reply.started": "2023-05-14T15:36:15.562997Z"
    }
   },
   "outputs": [
    {
     "name": "stdout",
     "output_type": "stream",
     "text": [
      "以下是使用matplotlib库绘制五角星的Python代码：\n",
      "\n",
      "```python\n",
      "import matplotlib.pyplot as plt\n",
      "import numpy as np\n",
      "\n",
      "# 创建一个画布\n",
      "fig, ax = plt.subplots()\n",
      "\n",
      "# 设置画布大小\n",
      "fig.set_size_inches(5, 5)\n",
      "\n",
      "# 设置线条颜色\n",
      "line_color = 'red'\n",
      "\n",
      "# 计算五角星的顶点坐标\n",
      "theta = np.linspace(0, 2*np.pi, 6)\n",
      "x = np.sin(theta)\n",
      "y = np.cos(theta)\n",
      "\n",
      "# 计算五角星的线段坐标\n",
      "lines_x = [x[0], x[2], x[4], x[1], x[3], x[0]]\n",
      "lines_y = [y[0], y[2], y[4], y[1], y[3], y[0]]\n",
      "\n",
      "# 绘制五角星\n",
      "ax.plot(lines_x, lines_y, color=line_color)\n",
      "\n",
      "# 设置坐标轴范围\n",
      "ax.set_xlim(-1.2, 1.2)\n",
      "ax.set_ylim(-1.2, 1.2)\n",
      "\n",
      "# 隐藏坐标轴\n",
      "ax.axis('off')\n",
      "\n",
      "# 显示绘制结果\n",
      "plt.show()\n",
      "```\n",
      "\n",
      "运行代码后，会弹出一个窗口，里面绘制了一个红色线条的五角星。\n"
     ]
    }
   ],
   "source": [
    "%%chatgpt \n",
    "角色：假设你是一个有着丰富经验的Python程序员。\n",
    "任务：请用Python代码绘制一个五角星。\n",
    "要求：请使用matplotlib这个库，线条使用红色。\n",
    "提示：五角星需要先计算五个顶点，然后在每间隔一个顶点的两个顶点之间两两进行连线。\n"
   ]
  },
  {
   "cell_type": "code",
   "execution_count": 8,
   "metadata": {
    "execution": {
     "iopub.execute_input": "2023-05-14T15:36:32.560405Z",
     "iopub.status.busy": "2023-05-14T15:36:32.559586Z",
     "iopub.status.idle": "2023-05-14T15:36:32.647627Z",
     "shell.execute_reply": "2023-05-14T15:36:32.645853Z",
     "shell.execute_reply.started": "2023-05-14T15:36:32.560361Z"
    }
   },
   "outputs": [
    {
     "data": {
      "image/png": "[encoded data removed]",
      "text/plain": [
       "<Figure size 500x500 with 1 Axes>"
      ]
     },
     "metadata": {},
     "output_type": "display_data"
    }
   ],
   "source": [
    "import matplotlib.pyplot as plt\n",
    "import numpy as np\n",
    "\n",
    "# 创建一个画布\n",
    "fig, ax = plt.subplots()\n",
    "\n",
    "# 设置画布大小\n",
    "fig.set_size_inches(5, 5)\n",
    "\n",
    "# 设置线条颜色\n",
    "line_color = 'red'\n",
    "\n",
    "# 计算五角星的顶点坐标\n",
    "theta = np.linspace(0, 2*np.pi, 6)\n",
    "x = np.sin(theta)\n",
    "y = np.cos(theta)\n",
    "\n",
    "# 计算五角星的线段坐标\n",
    "lines_x = [x[0], x[2], x[4], x[1], x[3], x[0]]\n",
    "lines_y = [y[0], y[2], y[4], y[1], y[3], y[0]]\n",
    "\n",
    "# 绘制五角星\n",
    "ax.plot(lines_x, lines_y, color=line_color)\n",
    "\n",
    "# 设置坐标轴范围\n",
    "ax.set_xlim(-1.2, 1.2)\n",
    "ax.set_ylim(-1.2, 1.2)\n",
    "\n",
    "# 隐藏坐标轴\n",
    "ax.axis('off')\n",
    "\n",
    "# 显示绘制结果\n",
    "plt.show()"
   ]
  },
  {
   "cell_type": "code",
   "execution_count": null,
   "metadata": {},
   "outputs": [],
   "source": []
  },
  {
   "cell_type": "code",
   "execution_count": null,
   "metadata": {},
   "outputs": [],
   "source": []
  },
  {
   "cell_type": "code",
   "execution_count": null,
   "metadata": {},
   "outputs": [],
   "source": [
    "%%chatgpt \n",
    "角色：假设你是一个有着丰富经验的Python程序员。\n",
    "任务：请用Python代码绘制一个正五角星。\n",
    "要求：请使用matplotlib这个库。线条使用红色。\n",
    "提示1：五角星需要先绘制五个顶点，然后在每间隔一个顶点的两个顶点之间两两进行连线。\n",
    "提示2：请注意使用%取余计算确保不要超出顶点列表索引范围。"
   ]
  }
 ],
 "metadata": {
  "celltoolbar": "Slideshow",
  "kernelspec": {
   "display_name": "Python 3 (ipykernel)",
   "language": "python",
   "name": "python3"
  },
  "language_info": {
   "codemirror_mode": {
    "name": "ipython",
    "version": 3
   },
   "file_extension": ".py",
   "mimetype": "text/x-python",
   "name": "python",
   "nbconvert_exporter": "python",
   "pygments_lexer": "ipython3",
   "version": "3.9.0"
  }
 },
 "nbformat": 4,
 "nbformat_minor": 4
}
